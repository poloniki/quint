{
 "cells": [
  {
   "cell_type": "code",
   "execution_count": 1,
   "metadata": {},
   "outputs": [],
   "source": [
    "# !pip3 install datacrunch"
   ]
  },
  {
   "cell_type": "code",
   "execution_count": 13,
   "metadata": {},
   "outputs": [],
   "source": [
    "import os\n",
    "from datacrunch import DataCrunchClient\n",
    "\n",
    "# Get client secret from environment variable\n",
    "CLIENT_SECRET = os.environ['DATACRUNCH_CLIENT_SECRET']\n",
    "CLIENT_ID = os.environ['DATACRUNCH_CLIENT_ID']\n",
    "\n",
    "# Create datcrunch client\n",
    "datacrunch = DataCrunchClient(CLIENT_ID, CLIENT_SECRET)"
   ]
  },
  {
   "cell_type": "code",
   "execution_count": 14,
   "metadata": {},
   "outputs": [],
   "source": [
    "import os\n",
    "import subprocess\n",
    "import shutil\n",
    "email = 'poloniki@ya.ru'\n",
    "key_filename = email.replace(\"@\", \"_\").replace(\".\", \"_\")\n",
    "def generate_ssh_key(email: str) -> str:\n",
    "    try:\n",
    "        # Create a filename based on the email\n",
    "       \n",
    "        \n",
    "        # Define the command and its arguments as a list\n",
    "        cmd = [\n",
    "            \"ssh-keygen\",\n",
    "            \"-t\", \"ed25519\",\n",
    "            \"-C\", email,\n",
    "            \"-f\", key_filename,  # Using the modified filename\n",
    "            \"-N\", \"\"  # Empty passphrase\n",
    "        ]\n",
    "        \n",
    "        # Run the command\n",
    "        process = subprocess.Popen(cmd, stdin=subprocess.PIPE, stdout=subprocess.PIPE, stderr=subprocess.PIPE)\n",
    "        # Send an empty passphrase (newline) twice: once for the passphrase itself and once to confirm it\n",
    "        process.communicate(input=b'\\n\\n')\n",
    "        if process.returncode != 0:\n",
    "            raise Exception(\"Error generating the key.\")\n",
    "        \n",
    "        # Read the public key\n",
    "        with open(f\"{key_filename}.pub\", \"r\") as f:\n",
    "            pubkey = f.read()\n",
    "        \n",
    "        # Move generated keys to the ~/.ssh folder\n",
    "        shutil.move(key_filename, os.path.expanduser(f\"~/.ssh/{key_filename}\"))\n",
    "        shutil.move(f\"{key_filename}.pub\", os.path.expanduser(f\"~/.ssh/{key_filename}.pub\"))\n",
    "\n",
    "        print(f\"SSH key for {email} generated successfully!\")\n",
    "        return pubkey\n",
    "\n",
    "    except Exception as e:\n",
    "        print(f\"Failed to generate SSH key for {email}. Reason: {e}\")\n",
    "        return None\n"
   ]
  },
  {
   "cell_type": "code",
   "execution_count": 15,
   "metadata": {},
   "outputs": [],
   "source": [
    "# Get all SSH keys\n",
    "your_email = \"poloniki@ya.ru\"\n",
    "ssh_keys = datacrunch.ssh_keys.get()\n",
    "ssh_keys = list(map(lambda key: key.id, ssh_keys))\n",
    "if len(ssh_keys) == 0:\n",
    "    public_key = generate_ssh_key(your_email)\n",
    "    datacrunch.ssh_keys.create(your_email,public_key)\n",
    "    ssh_keys = datacrunch.ssh_keys.get()\n",
    "    ssh_keys = list(map(lambda key: key.id, ssh_keys))"
   ]
  },
  {
   "cell_type": "code",
   "execution_count": 16,
   "metadata": {},
   "outputs": [],
   "source": [
    "# We select accessible GPU's that work really fast\n",
    "instance_type=''\n",
    "if datacrunch.instances.is_available(instance_type='1A6000.10V'):\n",
    "    instance_type='1A6000.10V'\n",
    "elif datacrunch.instances.is_available(instance_type='1A6000ADA.10V'):\n",
    "    instance_type='1A6000ADA.10V'"
   ]
  },
  {
   "cell_type": "code",
   "execution_count": 11,
   "metadata": {},
   "outputs": [
    {
     "data": {
      "text/plain": [
       "<datacrunch.startup_scripts.startup_scripts.StartupScript at 0x10c748850>"
      ]
     },
     "execution_count": 11,
     "metadata": {},
     "output_type": "execute_result"
    }
   ],
   "source": [
    "# Read the Bash script's contents\n",
    "with open('../scripts/clone_github_code.sh', 'r') as file:\n",
    "    script_contents = file.read()\n",
    "\n",
    "# Use the script_contents in the datacrunch function\n",
    "datacrunch.startup_scripts.create('cuda_drivers', script_contents)"
   ]
  },
  {
   "cell_type": "code",
   "execution_count": 17,
   "metadata": {},
   "outputs": [],
   "source": [
    "script_id = datacrunch.startup_scripts.get()[0].id"
   ]
  },
  {
   "cell_type": "code",
   "execution_count": 18,
   "metadata": {},
   "outputs": [],
   "source": [
    "# Create a new instance\n",
    "instance = datacrunch.instances.create(instance_type=instance_type,\n",
    "                                      image='ubuntu-22.04-cuda-12.0-docker',\n",
    "                                      ssh_key_ids=ssh_keys,\n",
    "                                      hostname='quint',\n",
    "                                      description='Transcription and summarization API',\n",
    "                                      startup_script_id=script_id,\n",
    "                                      os_volume={\n",
    "                                        \"name\": \"OS volume\",\n",
    "                                        \"size\": 100\n",
    "                                        }\n",
    "                                      )"
   ]
  },
  {
   "cell_type": "code",
   "execution_count": 19,
   "metadata": {},
   "outputs": [
    {
     "name": "stdout",
     "output_type": "stream",
     "text": [
      "Instance is running, you can now connect to it.\n"
     ]
    }
   ],
   "source": [
    "import time\n",
    "while datacrunch.instances.get()[0].status=='provisioning':\n",
    "    time.sleep(5)\n",
    "print('Instance is running, you can now connect to it.')"
   ]
  },
  {
   "cell_type": "code",
   "execution_count": 21,
   "metadata": {},
   "outputs": [
    {
     "name": "stdout",
     "output_type": "stream",
     "text": [
      "ssh root@65.109.75.44 -i ~/.ssh/poloniki_ya_ru\n"
     ]
    }
   ],
   "source": [
    "host = datacrunch.instances.get()[0].ip\n",
    "print(f'ssh root@{host} -i ~/.ssh/{key_filename}')\n",
    "# Connect to server via ssh and perform command \"sudo reboot\" to restart server for enabling Nvidia Drivers"
   ]
  },
  {
   "cell_type": "markdown",
   "metadata": {},
   "source": [
    "# Possible error WARNING: REMOTE HOST IDENTIFICATION HAS CHANGED!\n",
    "\n",
    "sed -i '' '47d' /Users/poloniki/.ssh/known_hosts"
   ]
  },
  {
   "cell_type": "code",
   "execution_count": 25,
   "metadata": {},
   "outputs": [
    {
     "name": "stdout",
     "output_type": "stream",
     "text": [
      "cd quint\n"
     ]
    }
   ],
   "source": [
    "print('cd quint')"
   ]
  },
  {
   "cell_type": "code",
   "execution_count": 35,
   "metadata": {},
   "outputs": [
    {
     "name": "stdout",
     "output_type": "stream",
     "text": [
      "Dockerfile                                    100%  511     7.7KB/s   00:00    \n",
      "Dockerfile.jax                                100%  711    10.5KB/s   00:00    \n",
      "LICENSE                                       100% 1074    11.4KB/s   00:00    \n",
      "Makefile                                      100%  353     5.2KB/s   00:00    \n",
      "README.md                                     100% 1127    16.7KB/s   00:00    \n",
      "podcast_transcript.txt                        100%  102KB 378.7KB/s   00:00    \n",
      "env.sample                                    100%    0     0.0KB/s   00:00    \n",
      "logo.png                                      100%   28KB 407.5KB/s   00:00    \n",
      "app.py                                        100% 7561   108.3KB/s   00:00    \n",
      "Deploy_gpu_instance.ipynb                     100%   12KB 169.6KB/s   00:00    \n",
      "Jax_Chunking_IN_DEV.ipynb                     100%   47KB 325.3KB/s   00:00    \n",
      "Chunking text into paragraphs.ipynb           100%  749KB   2.6MB/s   00:00    \n",
      "transcriber.py                                100% 3290    48.3KB/s   00:00    \n",
      "__init__.py                                   100%  235     3.3KB/s   00:00    \n",
      "params.py                                     100%   32     0.5KB/s   00:00    \n",
      "time.py                                       100%  425     6.3KB/s   00:00    \n",
      "embedding.py                                  100% 1023    15.2KB/s   00:00    \n",
      "activations.py                                100%   89     1.3KB/s   00:00    \n",
      "__init__.py                                   100%  235     3.5KB/s   00:00    \n",
      "highlights.py                                 100%  844    11.2KB/s   00:00    \n",
      "__init__.py                                   100%  235     3.5KB/s   00:00    \n",
      "words_outline.py                              100%  368     5.6KB/s   00:00    \n",
      "__init__.py                                   100%  235     3.5KB/s   00:00    \n",
      "params.cpython-310.pyc                        100%  175     2.6KB/s   00:00    \n",
      "__init__.cpython-310.pyc                      100%  386     5.8KB/s   00:00    \n",
      "similarities.py                               100% 2730    40.9KB/s   00:00    \n",
      "generate.py                                   100% 1301    19.2KB/s   00:00    \n",
      "__init__.py                                   100%  235     3.5KB/s   00:00    \n",
      "fast.py                                       100% 6052    90.5KB/s   00:00    \n",
      "text.py                                       100% 1735    26.1KB/s   00:00    \n",
      "audio.py                                      100% 1476    22.2KB/s   00:00    \n",
      "youtube.py                                    100% 1190    17.6KB/s   00:00    \n",
      "youtube.cpython-310.pyc                       100% 1200    16.8KB/s   00:00    \n",
      "get_topics.py                                 100% 1078    11.9KB/s   00:00    \n",
      "requirements.txt                              100%  327     4.8KB/s   00:00    \n",
      "clone_github_code.sh                          100%  126     1.9KB/s   00:00    \n",
      "install_nvidia_driver.sh                      100%  535     8.0KB/s   00:00    \n",
      "setup.py                                      100%  345     5.1KB/s   00:00    \n",
      "test_jax_device.py                            100%  382     5.6KB/s   00:00    \n",
      "test_youtube_downloader.cpython-310-pytest-7. 100% 1591    23.5KB/s   00:00    \n",
      "test_jax_device.cpython-310-pytest-7.1.3.pyc  100% 1796    26.5KB/s   00:00    \n",
      "test_youtube_downloader.py                    100% 1140    16.9KB/s   00:00    \n"
     ]
    }
   ],
   "source": [
    "!scp -r -i ~/.ssh/$key_filename ../* root@{host}:~/"
   ]
  },
  {
   "cell_type": "code",
   "execution_count": 139,
   "metadata": {},
   "outputs": [
    {
     "name": "stdout",
     "output_type": "stream",
     "text": [
      "docker build -t jax --file Dockerfile.jax .\n"
     ]
    }
   ],
   "source": [
    "print('docker build -t jax --file Dockerfile.jax .')"
   ]
  },
  {
   "cell_type": "code",
   "execution_count": 143,
   "metadata": {},
   "outputs": [
    {
     "name": "stdout",
     "output_type": "stream",
     "text": [
      "docker run --gpus all -p 80:80 jax\n"
     ]
    }
   ],
   "source": [
    "print('docker run --gpus all -p 80:80 --shm-size=1g --rm jax')"
   ]
  },
  {
   "cell_type": "code",
   "execution_count": null,
   "metadata": {},
   "outputs": [],
   "source": []
  }
 ],
 "metadata": {
  "kernelspec": {
   "display_name": "quint",
   "language": "python",
   "name": "python3"
  },
  "language_info": {
   "codemirror_mode": {
    "name": "ipython",
    "version": 3
   },
   "file_extension": ".py",
   "mimetype": "text/x-python",
   "name": "python",
   "nbconvert_exporter": "python",
   "pygments_lexer": "ipython3",
   "version": "3.10.6"
  },
  "orig_nbformat": 4
 },
 "nbformat": 4,
 "nbformat_minor": 2
}
