{
 "cells": [
  {
   "cell_type": "code",
   "execution_count": 1,
   "metadata": {},
   "outputs": [],
   "source": [
    "# !pip3 install datacrunch"
   ]
  },
  {
   "cell_type": "code",
   "execution_count": 1,
   "metadata": {},
   "outputs": [],
   "source": [
    "import os\n",
    "from datacrunch import DataCrunchClient\n",
    "\n",
    "# Get client secret from environment variable\n",
    "CLIENT_SECRET = os.environ['DATACRUNCH_CLIENT_SECRET']\n",
    "CLIENT_ID = os.environ['DATACRUNCH_CLIENT_ID']\n",
    "\n",
    "# Create datcrunch client\n",
    "datacrunch = DataCrunchClient(CLIENT_ID, CLIENT_SECRET)"
   ]
  },
  {
   "cell_type": "code",
   "execution_count": 2,
   "metadata": {},
   "outputs": [],
   "source": [
    "import os\n",
    "import subprocess\n",
    "import shutil\n",
    "email = 'poloniki@ya.ru'\n",
    "key_filename = email.replace(\"@\", \"_\").replace(\".\", \"_\")\n",
    "def generate_ssh_key(email: str) -> str:\n",
    "    try:\n",
    "        # Create a filename based on the email\n",
    "       \n",
    "        \n",
    "        # Define the command and its arguments as a list\n",
    "        cmd = [\n",
    "            \"ssh-keygen\",\n",
    "            \"-t\", \"ed25519\",\n",
    "            \"-C\", email,\n",
    "            \"-f\", key_filename,  # Using the modified filename\n",
    "            \"-N\", \"\"  # Empty passphrase\n",
    "        ]\n",
    "        \n",
    "        # Run the command\n",
    "        process = subprocess.Popen(cmd, stdin=subprocess.PIPE, stdout=subprocess.PIPE, stderr=subprocess.PIPE)\n",
    "        # Send an empty passphrase (newline) twice: once for the passphrase itself and once to confirm it\n",
    "        process.communicate(input=b'\\n\\n')\n",
    "        if process.returncode != 0:\n",
    "            raise Exception(\"Error generating the key.\")\n",
    "        \n",
    "        # Read the public key\n",
    "        with open(f\"{key_filename}.pub\", \"r\") as f:\n",
    "            pubkey = f.read()\n",
    "        \n",
    "        # Move generated keys to the ~/.ssh folder\n",
    "        shutil.move(key_filename, os.path.expanduser(f\"~/.ssh/{key_filename}\"))\n",
    "        shutil.move(f\"{key_filename}.pub\", os.path.expanduser(f\"~/.ssh/{key_filename}.pub\"))\n",
    "\n",
    "        print(f\"SSH key for {email} generated successfully!\")\n",
    "        return pubkey\n",
    "\n",
    "    except Exception as e:\n",
    "        print(f\"Failed to generate SSH key for {email}. Reason: {e}\")\n",
    "        return None\n"
   ]
  },
  {
   "cell_type": "code",
   "execution_count": 3,
   "metadata": {},
   "outputs": [],
   "source": [
    "# Get all SSH keys\n",
    "your_email = \"poloniki@ya.ru\"\n",
    "ssh_keys = datacrunch.ssh_keys.get()\n",
    "ssh_keys = list(map(lambda key: key.id, ssh_keys))\n",
    "if len(ssh_keys) == 0:\n",
    "    public_key = generate_ssh_key(your_email)\n",
    "    datacrunch.ssh_keys.create(your_email,public_key)\n",
    "    ssh_keys = datacrunch.ssh_keys.get()\n",
    "    ssh_keys = list(map(lambda key: key.id, ssh_keys))"
   ]
  },
  {
   "cell_type": "code",
   "execution_count": 4,
   "metadata": {},
   "outputs": [],
   "source": [
    "# We select accessible GPU's that work really fast\n",
    "instance_type=''\n",
    "if datacrunch.instances.is_available(instance_type='1A6000.10V'):\n",
    "    instance_type='1A6000.10V'\n",
    "elif datacrunch.instances.is_available(instance_type='1A6000ADA.10V'):\n",
    "    instance_type='1A6000ADA.10V'"
   ]
  },
  {
   "cell_type": "code",
   "execution_count": 11,
   "metadata": {},
   "outputs": [
    {
     "data": {
      "text/plain": [
       "<datacrunch.startup_scripts.startup_scripts.StartupScript at 0x10c748850>"
      ]
     },
     "execution_count": 11,
     "metadata": {},
     "output_type": "execute_result"
    }
   ],
   "source": [
    "# Read the Bash script's contents\n",
    "with open('../scripts/clone_github_code.sh', 'r') as file:\n",
    "    script_contents = file.read()\n",
    "\n",
    "# Use the script_contents in the datacrunch function\n",
    "datacrunch.startup_scripts.create('cuda_drivers', script_contents)"
   ]
  },
  {
   "cell_type": "code",
   "execution_count": 12,
   "metadata": {},
   "outputs": [],
   "source": [
    "script_id = datacrunch.startup_scripts.get()[0].id"
   ]
  },
  {
   "cell_type": "code",
   "execution_count": 6,
   "metadata": {},
   "outputs": [],
   "source": [
    "# Create a new instance\n",
    "instance = datacrunch.instances.create(instance_type=instance_type,\n",
    "                                      image='ubuntu-22.04-cuda-12.0-docker',\n",
    "                                      ssh_key_ids=ssh_keys,\n",
    "                                      hostname='quint',\n",
    "                                      description='Transcription and summarization API',\n",
    "                                    #   startup_script_id=script_id,\n",
    "                                      os_volume={\n",
    "                                        \"name\": \"OS volume\",\n",
    "                                        \"size\": 100\n",
    "                                        }\n",
    "                                      )"
   ]
  },
  {
   "cell_type": "code",
   "execution_count": 7,
   "metadata": {},
   "outputs": [
    {
     "name": "stdout",
     "output_type": "stream",
     "text": [
      "Success\n"
     ]
    }
   ],
   "source": [
    "import time\n",
    "while datacrunch.instances.get()[0].status=='provisioning':\n",
    "    time.sleep(5)\n",
    "print('Instance is running, you can now connect to it.')"
   ]
  },
  {
   "cell_type": "code",
   "execution_count": 8,
   "metadata": {},
   "outputs": [
    {
     "name": "stdout",
     "output_type": "stream",
     "text": [
      "ssh root@65.108.33.119 -i ~/.ssh/poloniki_ya_ru\n"
     ]
    }
   ],
   "source": [
    "host = datacrunch.instances.get()[0].ip\n",
    "print(f'ssh root@{host} -i ~/.ssh/{key_filename}')\n",
    "# Connect to server via ssh and perform command \"sudo reboot\" to restart server for enabling Nvidia Drivers"
   ]
  },
  {
   "cell_type": "code",
   "execution_count": null,
   "metadata": {},
   "outputs": [],
   "source": [
    "# Possible error WARNING: REMOTE HOST IDENTIFICATION HAS CHANGED!"
   ]
  },
  {
   "cell_type": "code",
   "execution_count": 9,
   "metadata": {},
   "outputs": [
    {
     "name": "stdout",
     "output_type": "stream",
     "text": [
      "cd quint\n"
     ]
    }
   ],
   "source": [
    "print('cd quint')"
   ]
  },
  {
   "cell_type": "code",
   "execution_count": 155,
   "metadata": {},
   "outputs": [
    {
     "name": "stdout",
     "output_type": "stream",
     "text": [
      "Dockerfile.jax                                100%  952    14.4KB/s   00:00    \n",
      "LICENSE                                       100% 1074    16.3KB/s   00:00    \n",
      "MANIFEST.in                                   100%   25     0.4KB/s   00:00    \n",
      "Makefile                                      100%  329     4.9KB/s   00:00    \n",
      "README.md                                     100% 3252    49.7KB/s   00:00    \n",
      "SECURITY.md                                   100%  619     6.4KB/s   00:00    \n",
      "podcast_transcript.txt                        100%  102KB 363.8KB/s   00:00    \n",
      "env.sample                                    100%    0     0.0KB/s   00:00    \n",
      "Deploy_gpu_instance.ipynb                     100%   12KB 182.2KB/s   00:00    \n",
      "Jax_Chunking_IN_DEV.ipynb                     100%   47KB 359.9KB/s   00:00    \n",
      "Chunking text into paragraphs.ipynb           100%  203KB   1.5MB/s   00:00    \n",
      "transcription.py                              100% 1325    20.0KB/s   00:00    \n",
      "highlights.py                                 100% 5101    77.1KB/s   00:00    \n",
      "words_outline.py                              100%  368     5.5KB/s   00:00    \n",
      "words_outline.cpython-310.pyc                 100%  747    11.4KB/s   00:00    \n",
      "highlights.cpython-310.pyc                    100% 5048    76.6KB/s   00:00    \n",
      "params.py                                     100%   32     0.5KB/s   00:00    \n",
      "time.py                                       100%  425     6.4KB/s   00:00    \n",
      "chunking.py                                   100% 2865    43.5KB/s   00:00    \n",
      "preprocess.py                                 100% 1736    26.3KB/s   00:00    \n",
      "chunking.cpython-310.pyc                      100% 1924    28.2KB/s   00:00    \n",
      "load_data.py                                  100%  503     7.5KB/s   00:00    \n",
      "getting_best_api.py                           100%  224     3.4KB/s   00:00    \n",
      "summary_api.py                                100%  755    11.4KB/s   00:00    \n",
      "chunk_api.py                                  100%  231     3.5KB/s   00:00    \n",
      "timstamp.py                                   100%    0     0.0KB/s   00:00    \n",
      "punctuation_api.py                            100%    0     0.0KB/s   00:00    \n",
      "logo.png                                      100%   28KB 420.7KB/s   00:00    \n",
      "app.py                                        100% 7561   111.7KB/s   00:00    \n",
      "processing.py                                 100%  122     1.8KB/s   00:00    \n",
      "bert.py                                       100% 1359    20.5KB/s   00:00    \n",
      "__init__.py                                   100%  235     3.6KB/s   00:00    \n",
      "__init__.cpython-310.pyc                      100%  386     5.9KB/s   00:00    \n",
      "fast.py                                       100% 5410    82.0KB/s   00:00    \n",
      "audio.py                                      100% 1476    22.4KB/s   00:00    \n",
      "youtube.py                                    100% 1190    18.0KB/s   00:00    \n",
      "get_topics.py                                 100% 1078    16.3KB/s   00:00    \n",
      "PKG-INFO                                      100%   98     1.5KB/s   00:00    \n",
      "not-zip-safe                                  100%    1     0.0KB/s   00:00    \n",
      "SOURCES.txt                                   100%  281     4.3KB/s   00:00    \n",
      "requires.txt                                  100%  535     8.1KB/s   00:00    \n",
      "top_level.txt                                 100%   12     0.2KB/s   00:00    \n",
      "dependency_links.txt                          100%    1     0.0KB/s   00:00    \n",
      "requirements.txt                              100%  309     4.7KB/s   00:00    \n",
      "install_nvidia_driver.sh                      100%  521     7.8KB/s   00:00    \n",
      "setup.py                                      100%  345     5.2KB/s   00:00    \n",
      "__init__.py                                   100%    0     0.0KB/s   00:00    \n"
     ]
    }
   ],
   "source": [
    "!scp -r -i ~/.ssh/$key_filename ../* root@{host}:~/"
   ]
  },
  {
   "cell_type": "code",
   "execution_count": 139,
   "metadata": {},
   "outputs": [
    {
     "name": "stdout",
     "output_type": "stream",
     "text": [
      "docker build -t jax --file Dockerfile.jax .\n"
     ]
    }
   ],
   "source": [
    "print('docker build -t jax --file Dockerfile.jax .')"
   ]
  },
  {
   "cell_type": "code",
   "execution_count": 143,
   "metadata": {},
   "outputs": [
    {
     "name": "stdout",
     "output_type": "stream",
     "text": [
      "docker run --gpus all -p 80:80 jax\n"
     ]
    }
   ],
   "source": [
    "print('docker run --gpus all -p 80:80 --shm-size=1g jax')"
   ]
  },
  {
   "cell_type": "code",
   "execution_count": null,
   "metadata": {},
   "outputs": [],
   "source": []
  }
 ],
 "metadata": {
  "kernelspec": {
   "display_name": "quint",
   "language": "python",
   "name": "python3"
  },
  "language_info": {
   "codemirror_mode": {
    "name": "ipython",
    "version": 3
   },
   "file_extension": ".py",
   "mimetype": "text/x-python",
   "name": "python",
   "nbconvert_exporter": "python",
   "pygments_lexer": "ipython3",
   "version": "3.10.6"
  },
  "orig_nbformat": 4
 },
 "nbformat": 4,
 "nbformat_minor": 2
}
